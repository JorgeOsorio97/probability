{
  "cells": [
    {
      "cell_type": "markdown",
      "source": [
        "# Equipo 4\n",
        "## Integrantes:\n",
        "\n",
        "*   Juan Carlos Pulido González\n",
        "*   Massiel Amairani Palacios Tafolla\n",
        "*   Jair Dominguez Aguilar\n",
        "*   Miguel Ángel Ponce de León Sánchez\n",
        "*   Jorge Aurelio Valdez Osorio"
      ],
      "metadata": {
        "id": "o7h4ZKkTEctO"
      },
      "id": "o7h4ZKkTEctO"
    },
    {
      "cell_type": "code",
      "execution_count": null,
      "id": "f207a80a",
      "metadata": {
        "id": "f207a80a"
      },
      "outputs": [],
      "source": [
        "import numpy as np\n",
        "import numpy.random as npr\n",
        "import scipy.stats as sps\n",
        "import matplotlib.pyplot as plt\n",
        "import random\n"
      ]
    },
    {
      "cell_type": "markdown",
      "source": [
        "## **Ejercicios:**\n",
        "\n",
        "1.- Dibuja la función de distribución acumulada de una variable aleatoria $X\\sim \\text{Binom}(3,0.3)$. Calcula $\\mathbb{P}(X\\leq 2)$.\n",
        "\n",
        "2.- Determina si la variable aleatoria dada es una variable aleatoria binomial. Si es así, da los valores de los parámetros $n$ y $p$. Si no es binomial, justifica tu respuesta.\n",
        " - $X$ es el número de canicas negras en una muestra de $5$ canicas extraídas al azar y sin reemplazo de una caja que contiene $25$ canicas blancas y $15$ canicas negras.\n",
        "\n",
        "- $X$ es el número de canicas negras en una muestra de 5\n",
        " canicas extraídas al azar y con reemplazo de una caja que contiene $25$\n",
        " canicas blancas y $15$\n",
        " canicas negras.\n",
        "\n",
        "- $X$ es el número de votantes a favor de la ley propuesta en una muestra de $1200$ votantes seleccionados aleatoriamente de todo el electorado de un país en el que el $35\\%$ de los votantes están a favor de la ley.\n",
        "\n",
        "- $X$ es el número de monedas que coinciden con al menos otra moneda cuando se lanzan cuatro monedas a la vez.\n",
        "\n",
        "3.- Investiga $5$ aplicaciones del uso de la variable aleatoria Poisson en la vida diaria y/o en tu experiencia."
      ],
      "metadata": {
        "id": "4r9FgjFEjSWl"
      },
      "id": "4r9FgjFEjSWl"
    },
    {
      "cell_type": "markdown",
      "source": [
        "## Ejercicio 1"
      ],
      "metadata": {
        "id": "0WGo18xVB8Mx"
      },
      "id": "0WGo18xVB8Mx"
    },
    {
      "cell_type": "code",
      "source": [
        "###### Ejercicio 1\n",
        "### Dibujar Bin(3,0.3)\n",
        "\n",
        "n = 3  # tres ensayos Bernoulli\n",
        "p = 0.3  # probabilidad de éxito\n",
        "s = 100000  # tamaño de muestras\n",
        "\n",
        "random.seed(3)\n",
        "binom_numeros = sps.binom.rvs(n, p, size=s) # genera variables aleatorias binomiales\n",
        "\n",
        "plt.figure(figsize=(10, 5))\n",
        "plt.hist(\n",
        "    binom_numeros,\n",
        "    density=True,\n",
        "    bins=len(np.unique(binom_numeros)),\n",
        "    color=\"#fc9d12\",\n",
        "    edgecolor=\"grey\",\n",
        ")\n",
        "plt.xlabel(\" \")\n",
        "plt.ylabel(\"Probabilidad\")\n",
        "plt.title(\"Distribución binomial \\npara tamaño=3 y p=0.3\")\n",
        "plt.xticks(\n",
        "    np.arange(min(binom_numeros), max(binom_numeros) + 1, 2.0)\n",
        ")\n",
        "\n",
        "plt.show()\n",
        "\n",
        "### Calcular probabilidad de que P(X<=2)\n",
        "import math\n",
        "\n",
        "P_bin = 0\n",
        "for x in range(1,3):\n",
        "  p_temp = math.factorial(n)/(math.factorial(x)*math.factorial(n-x))\n",
        "  p_temp = p_temp*(p**x)*((1-p)**(n-x))\n",
        "  P_bin = P_bin + p_temp\n",
        "\n",
        "print(\"P(X<=2) = \",P_bin)"
      ],
      "metadata": {
        "id": "fx5smiOtoWAL",
        "outputId": "52e91739-e5e8-4d69-a0ba-60980149f1a1",
        "colab": {
          "base_uri": "https://localhost:8080/",
          "height": 525
        }
      },
      "id": "fx5smiOtoWAL",
      "execution_count": null,
      "outputs": [
        {
          "output_type": "display_data",
          "data": {
            "text/plain": [
              "<Figure size 1000x500 with 1 Axes>"
            ],
            "image/png": "[encoded data removed]"
          },
          "metadata": {}
        },
        {
          "output_type": "stream",
          "name": "stdout",
          "text": [
            "P(X<=2) =  0.6299999999999999\n"
          ]
        }
      ]
    },
    {
      "cell_type": "markdown",
      "source": [
        "## Ejercicio 2\n",
        "\n",
        "- $X$ es el número de canicas negras en una muestra de $5$ canicas extraídas al azar y sin reemplazo de una caja que contiene $25$ canicas blancas y $15$ canicas negras.\n",
        "\n",
        "R: No es Binomial, ya que al ser sin reemplazo, las extracciones no son independientes entre si, es decir, los 5 experimentos dependen del anterior.\n",
        "\n",
        "- $X$ es el número de canicas negras en una muestra de 5\n",
        " canicas extraídas al azar y con reemplazo de una caja que contiene $25$\n",
        " canicas blancas y $15$\n",
        " canicas negras.\n",
        "\n",
        "R: Sí es binomial, cada extraccion de canica es un experimento bernulli y es con reemplazo, es decir, los experimentos son independientes entre si. Por lo que la distribucion X~Bin(n=5,p=15/40)\n",
        "\n",
        "- $X$ es el número de votantes a favor de la ley propuesta en una muestra de $1200$ votantes seleccionados aleatoriamente de todo el electorado de un país en el que el $35\\%$ de los votantes están a favor de la ley.\n",
        "\n",
        "R: Cada votante es un experimento bernulli independientes entre si. Tomando como éxito el resultado donde se aprueba la ley, entonces la variable se distribuye X~Bin(n=1200,p=35%).\n",
        "\n",
        "- $X$ es el número de monedas que coinciden con al menos otra moneda cuando se lanzan cuatro monedas a la vez.\n",
        "\n",
        "R: Dado que el resultado de éxito de experimento no es claro, pues, puede darse el caso donde dos monedas caigan sol y las otras dos caigan aguila, no se trata de una distribución Binomial. Además que los experimentos no son independientes y la probabilidad de \"éxito\" no es constante.\n",
        "\n"
      ],
      "metadata": {
        "id": "QScJGfIOWgaZ"
      },
      "id": "QScJGfIOWgaZ"
    },
    {
      "cell_type": "markdown",
      "source": [
        "## Ejercicio 3\n",
        "\n",
        "3.- Investiga $5$ aplicaciones del uso de la variable aleatoria Poisson en la vida diaria y/o en tu experiencia.\n",
        "\n",
        "\n",
        "3.1 Modelar el numero de llamadas que se pueden recibir en un call center. Para saber cuantosejectuvitos de atencion a clietne son necesarios.\n",
        "\n",
        "3.2 Numero de clientes en un restaurante para planear mejor inventarios y personal.\n",
        "\n",
        "3.3 Numero de visitantes en un sitio web. Para estimar costos de servidores por escalamiento.\n",
        "\n",
        "3.4 Numero de cleintes declarados en bancarrota al mes. Para que los bancos puedan planear basado en eso.\n",
        "\n",
        "3.5 Fallas de red al mes. Co el objtetvio de preveer y planear de acuerdo a la probabilidad de fallas."
      ],
      "metadata": {
        "id": "KYiYA6_9Bqh0"
      },
      "id": "KYiYA6_9Bqh0"
    },
    {
      "cell_type": "code",
      "source": [],
      "metadata": {
        "id": "ZGYZyEk-Br2S"
      },
      "id": "ZGYZyEk-Br2S",
      "execution_count": null,
      "outputs": []
    }
  ],
  "metadata": {
    "colab": {
      "provenance": []
    },
    "kernelspec": {
      "display_name": "Python 3 (ipykernel)",
      "language": "python",
      "name": "python3"
    },
    "language_info": {
      "codemirror_mode": {
        "name": "ipython",
        "version": 3
      },
      "file_extension": ".py",
      "mimetype": "text/x-python",
      "name": "python",
      "nbconvert_exporter": "python",
      "pygments_lexer": "ipython3",
      "version": "3.9.13"
    }
  },
  "nbformat": 4,
  "nbformat_minor": 5
}